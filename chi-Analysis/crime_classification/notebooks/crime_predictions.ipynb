{
 "cells": [
  {
   "cell_type": "code",
   "execution_count": 1,
   "metadata": {},
   "outputs": [
    {
     "name": "stderr",
     "output_type": "stream",
     "text": [
      "C:\\ProgramData\\Anaconda3\\lib\\site-packages\\sklearn\\cross_validation.py:41: DeprecationWarning: This module was deprecated in version 0.18 in favor of the model_selection module into which all the refactored classes and functions are moved. Also note that the interface of the new CV iterators are different from that of this module. This module will be removed in 0.20.\n",
      "  \"This module will be removed in 0.20.\", DeprecationWarning)\n"
     ]
    }
   ],
   "source": [
    "import warnings\n",
    "warnings.simplefilter('ignore')\n",
    "import pandas as pd\n",
    "import matplotlib.pyplot as plt\n",
    "import numpy as np\n",
    "import csv\n",
    "from sklearn.cross_validation import train_test_split\n",
    "from sklearn import cross_validation\n",
    "from sklearn.cross_validation import cross_val_score\n",
    "from sklearn.metrics import log_loss\n",
    "from sklearn.preprocessing import LabelEncoder\n",
    "from sklearn.neighbors import KNeighborsClassifier\n",
    "from sklearn import ensemble, metrics, tree"
   ]
  },
  {
   "cell_type": "code",
   "execution_count": 2,
   "metadata": {
    "collapsed": true
   },
   "outputs": [],
   "source": [
    "crime=pd.read_csv('Crimes_-_2001_to_present.csv')"
   ]
  },
  {
   "cell_type": "code",
   "execution_count": 3,
   "metadata": {
    "collapsed": true
   },
   "outputs": [],
   "source": [
    "crime.Date = pd.to_datetime(crime.Date, format = '%m/%d/%Y %I:%M:%S %p')\n",
    "crime.drop_duplicates(subset=['ID', 'Case Number'], inplace=True)\n",
    "crime = crime.dropna()\n",
    "crime.drop(['ID','Case Number','IUCR','FBI Code','Updated On','Location',\n",
    "                 'X Coordinate','Y Coordinate','Location'], inplace = True, axis = 1)\n",
    "crime['minute']=[i.strftime('%M') for i in crime['Date']]\n",
    "crime['Hour'] = [i.strftime('%H') for i in crime['Date']]\n",
    "crime['Date'] = pd.to_datetime(crime['Date'], errors='coerce')\n",
    "crime.index = pd.DatetimeIndex(crime.Date,inplace=True,axis=1)\n",
    "Hour=crime['Hour']\n",
    "Hour = pd.to_numeric(Hour, errors='coerce')\n",
    "crime['SEASON'] = pd.cut(\n",
    "    (crime.index.dayofyear + 11) % 366,\n",
    "    [0, 91, 183, 275, 366],\n",
    "    labels=['Winter', 'Spring', 'Summer', 'Fall']\n",
    ")\n",
    "ranges = [0,6,12,18,24]\n",
    "l = ['Early Morning','Morning','Afternoon','Evening']\n",
    "session=pd.cut(crime.Date.dt.hour,[-1,6,12,18,24],labels=['Early Morning','Morning','Afternoon','Evening']).astype('category')\n",
    "crime['session']=session"
   ]
  },
  {
   "cell_type": "code",
   "execution_count": 4,
   "metadata": {
    "collapsed": true
   },
   "outputs": [],
   "source": [
    "crime['Date'] = pd.to_datetime(crime['Date'], errors='coerce')\n",
    "crime['day_of_week'] = crime['Date'].dt.dayofweek\n",
    "\n",
    "days_dict = {0:'Mon', 1:'Tue', 2:'Wed', 3:'Thu', 4:'Fri',\n",
    "                    5:'Sat', 6:'Sun'}\n",
    "crime = crime.replace({'day_of_week':days_dict})\n",
    "crime.index = pd.DatetimeIndex(crime.Date,inplace=True,axis=1)\n",
    "crime['Weekend Day'] = np.where(((crime['day_of_week'] == 'Sat') | (crime['day_of_week'] == 'Sun')),1,0)"
   ]
  },
  {
   "cell_type": "code",
   "execution_count": 5,
   "metadata": {
    "collapsed": true
   },
   "outputs": [],
   "source": [
    "zipcode=pd.read_csv('Community area and zip code equivalency - Community area and zip code equ.csv')"
   ]
  },
  {
   "cell_type": "code",
   "execution_count": 6,
   "metadata": {
    "collapsed": true
   },
   "outputs": [],
   "source": [
    "crimeff = crime.merge(zipcode[['CHGOCA', 'ZCTA5']], how='inner', left_on='Community Area', right_on='CHGOCA')\n",
    "crimeff.rename(columns={'ZCTA5': 'Zipcode'}, inplace=True)\n",
    "crimeff.drop(['CHGOCA'], inplace = True, axis = 1)\n",
    "crimeff = crimeff[(crimeff['Zipcode'] > 60600) & (crimeff['Zipcode'] < 60608)]"
   ]
  },
  {
   "cell_type": "code",
   "execution_count": 7,
   "metadata": {
    "collapsed": true
   },
   "outputs": [],
   "source": [
    "def normalize(data): \n",
    "    data = (data - data.min()) / (data.max() - data.min())\n",
    "    return data\n",
    "\n",
    "crimeff['Latitude'] = normalize(crimeff.Latitude)\n",
    "crimeff['Longitude'] = normalize(crimeff.Longitude)"
   ]
  },
  {
   "cell_type": "code",
   "execution_count": 9,
   "metadata": {
    "collapsed": true
   },
   "outputs": [],
   "source": [
    "crimeff.drop(['Date','Description','Arrest', 'Domestic', 'Beat', 'District', 'Ward', 'Community Area','Zipcode'],inplace=True,axis=1)\n",
    "\n",
    "crimeff.drop(['SEASON', 'session', 'day_of_week'],inplace=True,axis=1)"
   ]
  },
  {
   "cell_type": "code",
   "execution_count": 10,
   "metadata": {
    "collapsed": true
   },
   "outputs": [],
   "source": [
    "y=crimeff[crimeff.columns[1]]"
   ]
  },
  {
   "cell_type": "code",
   "execution_count": 11,
   "metadata": {
    "scrolled": true
   },
   "outputs": [
    {
     "data": {
      "text/plain": [
       "4882314                 BATTERY\n",
       "4882315                 BATTERY\n",
       "4882321                 ASSAULT\n",
       "4882322                 ASSAULT\n",
       "4882328         CRIMINAL DAMAGE\n",
       "4882329         CRIMINAL DAMAGE\n",
       "4882335     MOTOR VEHICLE THEFT\n",
       "4882336     MOTOR VEHICLE THEFT\n",
       "4882342     CRIM SEXUAL ASSAULT\n",
       "4882343     CRIM SEXUAL ASSAULT\n",
       "4882349                   THEFT\n",
       "4882350                   THEFT\n",
       "4882356                 BATTERY\n",
       "4882357                 BATTERY\n",
       "4882363     MOTOR VEHICLE THEFT\n",
       "4882364     MOTOR VEHICLE THEFT\n",
       "4882370                   THEFT\n",
       "4882371                   THEFT\n",
       "4882377                   THEFT\n",
       "4882378                   THEFT\n",
       "4882384      DECEPTIVE PRACTICE\n",
       "4882385      DECEPTIVE PRACTICE\n",
       "4882391       CRIMINAL TRESPASS\n",
       "4882392       CRIMINAL TRESPASS\n",
       "4882398      DECEPTIVE PRACTICE\n",
       "4882399      DECEPTIVE PRACTICE\n",
       "4882405                   THEFT\n",
       "4882406                   THEFT\n",
       "4882412                 ROBBERY\n",
       "4882413                 ROBBERY\n",
       "                   ...         \n",
       "20143093                  THEFT\n",
       "20143095                BATTERY\n",
       "20143097                BATTERY\n",
       "20143099                  THEFT\n",
       "20143101                BATTERY\n",
       "20143103                  THEFT\n",
       "20143105                BATTERY\n",
       "20143107      CRIMINAL TRESPASS\n",
       "20143109                ASSAULT\n",
       "20143111                ASSAULT\n",
       "20143113                  THEFT\n",
       "20143115                  THEFT\n",
       "20143117              NARCOTICS\n",
       "20143119          OTHER OFFENSE\n",
       "20143121                  THEFT\n",
       "20143123                BATTERY\n",
       "20143125              NARCOTICS\n",
       "20143127          OTHER OFFENSE\n",
       "20143129              NARCOTICS\n",
       "20143131                ROBBERY\n",
       "20143133        CRIMINAL DAMAGE\n",
       "20143135               BURGLARY\n",
       "20143137      CRIMINAL TRESPASS\n",
       "20143139          OTHER OFFENSE\n",
       "20143141                BATTERY\n",
       "20143143                BATTERY\n",
       "20143145                  THEFT\n",
       "20143147        CRIMINAL DAMAGE\n",
       "20143149          OTHER OFFENSE\n",
       "20143151                  THEFT\n",
       "Name: Primary Type, Length: 1338452, dtype: object"
      ]
     },
     "execution_count": 11,
     "metadata": {},
     "output_type": "execute_result"
    }
   ],
   "source": [
    "crimeff.pop('Primary Type')"
   ]
  },
  {
   "cell_type": "code",
   "execution_count": 12,
   "metadata": {
    "collapsed": true
   },
   "outputs": [],
   "source": [
    "crimeff.drop(['Location Description'], inplace=True,axis=1)\n",
    "\n",
    "import copy\n",
    "\n",
    "features=copy.deepcopy(crimeff)"
   ]
  },
  {
   "cell_type": "code",
   "execution_count": 13,
   "metadata": {
    "collapsed": true
   },
   "outputs": [],
   "source": [
    "X_train, X_test, y_train, y_test = train_test_split(features, y, test_size = 0.001, random_state = 0)"
   ]
  },
  {
   "cell_type": "code",
   "execution_count": 15,
   "metadata": {
    "collapsed": true
   },
   "outputs": [],
   "source": [
    "X_train.drop(['Block'], inplace=True,axis=1)\n",
    "test_addresses = X_test['Block']\n",
    "X_test.drop(['Block'], inplace=True,axis=1)"
   ]
  },
  {
   "cell_type": "code",
   "execution_count": 16,
   "metadata": {
    "collapsed": true
   },
   "outputs": [],
   "source": [
    "ylabel=LabelEncoder()\n",
    "ylabel.fit(y_train)\n",
    "y_train= ylabel.fit_transform(y_train)\n",
    "y_test= ylabel.transform(y_test)\n",
    "\n",
    "# enc91= LabelEncoder()\n",
    "# X_train['Block'] = enc91.fit_transform(X_train['Block'].astype(str))\n",
    "# X_test['Block'] = enc91.transform(X_test['Block'].astype(str))\n",
    "\n",
    "# enc931= LabelEncoder()\n",
    "# X_train['SEASON'] = enc931.fit_transform(X_train['SEASON'].astype(str))\n",
    "# X_test['SEASON'] = enc931.transform(X_test['SEASON'].astype(str))\n",
    "\n",
    "#enc922= LabelEncoder()\n",
    "#X_train['Location Description'] = enc922.fit_transform(X_train['Location Description'].astype(str))\n",
    "#X_test['Location Description'] = enc922.transform(X_test['Location Description'].astype(str))\n",
    "\n",
    "# enc933= LabelEncoder()\n",
    "# X_train['session'] = enc933.fit_transform(X_train['session'].astype(str))\n",
    "# X_test['session'] = enc933.transform(X_test['session'].astype(str))\n",
    "\n",
    "#enc934= LabelEncoder()\n",
    "#X_train['day_of_week'] = enc934.fit_transform(X_train['day_of_week'].astype(str))\n",
    "#X_test['day_of_week'] = enc934.transform(X_test['day_of_week'].astype(str))"
   ]
  },
  {
   "cell_type": "code",
   "execution_count": 19,
   "metadata": {},
   "outputs": [],
   "source": [
    "import pickle\n",
    "\n",
    "label_mapping = dict(zip(ylabel.classes_, ylabel.transform(ylabel.classes_)))\n",
    "\n",
    "fileObject = open('models/label_mapping','wb')\n",
    "pickle.dump(label_mapping, fileObject) \n",
    "fileObject.close()"
   ]
  },
  {
   "cell_type": "code",
   "execution_count": 21,
   "metadata": {},
   "outputs": [
    {
     "name": "stdout",
     "output_type": "stream",
     "text": [
      "KNeighborsClassifier(algorithm='auto', leaf_size=30, metric='minkowski',\n",
      "           metric_params=None, n_jobs=1, n_neighbors=5, p=2,\n",
      "           weights='uniform')\n",
      "\n",
      "Overall Acurracy:  0.7819268110530246 \n",
      "\n"
     ]
    }
   ],
   "source": [
    "clf = KNeighborsClassifier()\n",
    "clf.fit(X_train, y_train)\n",
    "\n",
    "preds = clf.predict(X_test)\n",
    "accScore = metrics.accuracy_score(y_test,preds)\n",
    "labels = range(32)\n",
    "\n",
    "precision = metrics.precision_score(y_test,preds,average=None,labels=labels)\n",
    "recall = metrics.recall_score(y_test,preds,average=None,labels=labels)\n",
    "f1Score = metrics.f1_score(y_test,preds,average=None,labels=labels)\n",
    "\n",
    "print(clf)\n",
    "print(\"\\nOverall Acurracy: \",accScore,\"\\n\")\n",
    "\n",
    "preds = clf.predict_proba(X_test)\n",
    "\n",
    "sample = test_addresses\n",
    "final_knn = []\n",
    "i = 0\n",
    "for each in sample:\n",
    "    for j in range(len(preds[i])):\n",
    "        adder = []\n",
    "        adder.append(each)\n",
    "        adder.append(list(label_mapping.keys())[list(label_mapping.values()).index(j)])\n",
    "        adder.append('K Nearest Neighbour')\n",
    "        adder.append(preds[i][j])\n",
    "        final_knn.append(adder)\n",
    "    i += 1\n",
    "    \n",
    "fileObject = open('models/knn','wb')\n",
    "pickle.dump(clf, fileObject) \n",
    "fileObject.close()"
   ]
  },
  {
   "cell_type": "code",
   "execution_count": 22,
   "metadata": {},
   "outputs": [
    {
     "name": "stdout",
     "output_type": "stream",
     "text": [
      "RandomForestClassifier(bootstrap=True, class_weight=None, criterion='gini',\n",
      "            max_depth=None, max_features='auto', max_leaf_nodes=None,\n",
      "            min_impurity_decrease=0.0, min_impurity_split=None,\n",
      "            min_samples_leaf=1, min_samples_split=2,\n",
      "            min_weight_fraction_leaf=0.0, n_estimators=10, n_jobs=1,\n",
      "            oob_score=False, random_state=None, verbose=0,\n",
      "            warm_start=False)\n",
      "\n",
      "Overall Acurracy:  0.9200896191187453 \n",
      "\n"
     ]
    }
   ],
   "source": [
    "clf = ensemble.RandomForestClassifier()\n",
    "clf.fit(X_train, y_train)\n",
    "preds = clf.predict(X_test)\n",
    "accScore = metrics.accuracy_score(y_test,preds)\n",
    "labels = range(32)\n",
    "\n",
    "precision = metrics.precision_score(y_test,preds,average=None,labels=labels)\n",
    "recall = metrics.recall_score(y_test,preds,average=None,labels=labels)\n",
    "f1Score = metrics.f1_score(y_test,preds,average=None,labels=labels)\n",
    "\n",
    "print(clf)\n",
    "print(\"\\nOverall Acurracy: \",accScore,\"\\n\")\n",
    "\n",
    "preds = clf.predict_proba(X_test)\n",
    "\n",
    "sample = test_addresses\n",
    "\n",
    "final_rforest = []\n",
    "i = 0\n",
    "for each in sample:\n",
    "    for j in range(len(preds[i])):\n",
    "        adder = []\n",
    "        adder.append(each)\n",
    "        adder.append(list(label_mapping.keys())[list(label_mapping.values()).index(j)])\n",
    "        adder.append('Random Forest')\n",
    "        adder.append(preds[i][j])\n",
    "        final_rforest.append(adder)\n",
    "    i += 1\n",
    "\n",
    "fileObject = open('models/random_forest','wb')\n",
    "pickle.dump(clf, fileObject) \n",
    "fileObject.close()"
   ]
  },
  {
   "cell_type": "code",
   "execution_count": 23,
   "metadata": {},
   "outputs": [
    {
     "name": "stdout",
     "output_type": "stream",
     "text": [
      "DecisionTreeClassifier(class_weight=None, criterion='gini', max_depth=None,\n",
      "            max_features=None, max_leaf_nodes=None,\n",
      "            min_impurity_decrease=0.0, min_impurity_split=None,\n",
      "            min_samples_leaf=1, min_samples_split=2,\n",
      "            min_weight_fraction_leaf=0.0, presort=False, random_state=None,\n",
      "            splitter='best')\n",
      "\n",
      "Overall Acurracy:  0.9185959671396564 \n",
      "\n"
     ]
    }
   ],
   "source": [
    "clf = tree.DecisionTreeClassifier()\n",
    "clf.fit(X_train, y_train)\n",
    "preds = clf.predict(X_test)\n",
    "accScore = metrics.accuracy_score(y_test,preds)\n",
    "labels = range(32)\n",
    "\n",
    "precision = metrics.precision_score(y_test,preds,average=None,labels=labels)\n",
    "recall = metrics.recall_score(y_test,preds,average=None,labels=labels)\n",
    "f1Score = metrics.f1_score(y_test,preds,average=None,labels=labels)\n",
    "\n",
    "print(clf)\n",
    "print(\"\\nOverall Acurracy: \",accScore,\"\\n\")\n",
    "\n",
    "preds = clf.predict_proba(X_test)\n",
    "\n",
    "sample = test_addresses\n",
    "\n",
    "final_dtree = []\n",
    "i = 0\n",
    "for each in sample:\n",
    "    for j in range(len(preds[i])):\n",
    "        adder = []\n",
    "        adder.append(each)\n",
    "        adder.append(list(label_mapping.keys())[list(label_mapping.values()).index(j)])\n",
    "        adder.append('Decision Tree')\n",
    "        adder.append(preds[i][j])\n",
    "        final_dtree.append(adder)\n",
    "    i += 1\n",
    "\n",
    "fileObject = open('models/decision_tree','wb')\n",
    "pickle.dump(clf, fileObject) \n",
    "fileObject.close()"
   ]
  },
  {
   "cell_type": "code",
   "execution_count": 24,
   "metadata": {
    "collapsed": true
   },
   "outputs": [],
   "source": [
    "with open(\"test_op_crime.csv\", \"w\", newline = '') as f:\n",
    "    writer = csv.writer(f)\n",
    "    writer.writerows(final_dtree)\n",
    "    writer.writerows(final_rforest)\n",
    "    writer.writerows(final_knn)"
   ]
  },
  {
   "cell_type": "code",
   "execution_count": null,
   "metadata": {
    "collapsed": true
   },
   "outputs": [],
   "source": []
  }
 ],
 "metadata": {
  "kernelspec": {
   "display_name": "Python 3",
   "language": "python",
   "name": "python3"
  },
  "language_info": {
   "codemirror_mode": {
    "name": "ipython",
    "version": 3
   },
   "file_extension": ".py",
   "mimetype": "text/x-python",
   "name": "python",
   "nbconvert_exporter": "python",
   "pygments_lexer": "ipython3",
   "version": "3.5.0"
  }
 },
 "nbformat": 4,
 "nbformat_minor": 2
}
