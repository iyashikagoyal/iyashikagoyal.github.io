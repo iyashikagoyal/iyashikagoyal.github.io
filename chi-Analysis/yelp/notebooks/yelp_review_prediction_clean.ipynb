{
 "cells": [
  {
   "cell_type": "code",
   "execution_count": 3,
   "metadata": {
    "collapsed": true
   },
   "outputs": [],
   "source": [
    "import pandas as pd\n",
    "import numpy as np\n",
    "import nltk\n",
    "import re\n",
    "import time\n",
    "import csv\n",
    "import sys\n",
    "import pickle\n",
    "from imblearn.over_sampling import SMOTE\n",
    "from sklearn.model_selection import train_test_split\n",
    "from sklearn import feature_extraction\n",
    "from sklearn import metrics, svm, tree, ensemble, linear_model, naive_bayes\n",
    "from sklearn.ensemble import VotingClassifier\n",
    "import xgboost as xgb\n",
    "import warnings; warnings.simplefilter('ignore')"
   ]
  },
  {
   "cell_type": "code",
   "execution_count": 4,
   "metadata": {
    "collapsed": true
   },
   "outputs": [],
   "source": [
    "final = []\n",
    "with open('reviews_60601-60606.csv') as csv_file:\n",
    "    count = 0\n",
    "    for line in csv.reader(csv_file):\n",
    "        row = ','.join(line)\n",
    "        rows = row.split(',') \n",
    "        rows[3:-6] = [''.join(rows[3:-6])]\n",
    "        count += 1\n",
    "        if len(rows) != 10:\n",
    "            print(rows)\n",
    "            sys.exit(1)\n",
    "        final.append(rows)"
   ]
  },
  {
   "cell_type": "code",
   "execution_count": 5,
   "metadata": {
    "collapsed": true
   },
   "outputs": [],
   "source": [
    "df = pd.DataFrame(final[1:])\n",
    "df.columns = final[:1]\n",
    "\n",
    "yelp_reviews = df.iloc[:,3:5]\n",
    "\n",
    "reviews = yelp_reviews['reviewContent'].values.tolist()\n",
    "ratings = yelp_reviews['rating'].values.tolist()"
   ]
  },
  {
   "cell_type": "code",
   "execution_count": 6,
   "metadata": {
    "collapsed": true
   },
   "outputs": [],
   "source": [
    "def dataClean(reviews_raw):\n",
    "    cleanReviews = []\n",
    "    for review in reviews_raw:\n",
    "        review = review[0].lower() #convert to lowercase\n",
    "        review = re.sub(r'\\w+:\\/{2}[\\d\\w-]+(\\.[\\d\\w-]+)*(?:(?:\\/[^\\s/]*))*', '', review) #remove URL\n",
    "        review = re.sub(r'(\\s)@\\w+', r'', review) #remove usernames\n",
    "        review = re.sub(r'@\\w+', r'', review) #remove usernames\n",
    "        review = re.sub('<[^<]+?>', '', review) #remove HTML tags\n",
    "        review = re.sub(r'[<>!#@$:.,%\\?-]+', r'', review) #remove punctuation and special characters \n",
    "        lower_case = review.lower() #tokenization \n",
    "        words = lower_case.split()\n",
    "        review = ' '.join([w for w in words if not w in nltk.corpus.stopwords.words(\"english\")]) #remove stopwords\n",
    "        ps = nltk.stem.PorterStemmer()\n",
    "        stemmedReview = [ps.stem(word) for word in review.split(\" \")]\n",
    "        stemmedReview = \" \".join(stemmedReview)\n",
    "        review = str(stemmedReview)\n",
    "        review = review.replace(\"'\", \"\")\n",
    "        review = review.replace(\"\\\"\",\"\")\n",
    "        cleanReviews.append(review)\n",
    "    return cleanReviews"
   ]
  },
  {
   "cell_type": "code",
   "execution_count": null,
   "metadata": {
    "collapsed": true,
    "scrolled": false
   },
   "outputs": [],
   "source": [
    "cleaned_reviews = dataClean(reviews)"
   ]
  },
  {
   "cell_type": "code",
   "execution_count": null,
   "metadata": {},
   "outputs": [],
   "source": [
    "cleaned_reviews"
   ]
  },
  {
   "cell_type": "code",
   "execution_count": 10,
   "metadata": {
    "collapsed": true
   },
   "outputs": [],
   "source": [
    "fileObject = open('pickels/clean_reviews','wb')\n",
    "pickle.dump(cleaned_reviews, fileObject) \n",
    "fileObject.close()\n",
    "\n",
    "fileObject = open('pickels/ratings','wb')\n",
    "pickle.dump(ratings, fileObject) \n",
    "fileObject.close()"
   ]
  },
  {
   "cell_type": "code",
   "execution_count": null,
   "metadata": {
    "collapsed": true
   },
   "outputs": [],
   "source": []
  }
 ],
 "metadata": {
  "kernelspec": {
   "display_name": "Python 3",
   "language": "python",
   "name": "python3"
  },
  "language_info": {
   "codemirror_mode": {
    "name": "ipython",
    "version": 3
   },
   "file_extension": ".py",
   "mimetype": "text/x-python",
   "name": "python",
   "nbconvert_exporter": "python",
   "pygments_lexer": "ipython3",
   "version": "3.5.0"
  }
 },
 "nbformat": 4,
 "nbformat_minor": 2
}
