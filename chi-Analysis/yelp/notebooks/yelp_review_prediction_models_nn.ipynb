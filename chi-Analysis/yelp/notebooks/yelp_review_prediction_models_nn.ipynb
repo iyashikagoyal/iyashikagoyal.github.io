{
 "cells": [
  {
   "cell_type": "code",
   "execution_count": 1,
   "metadata": {},
   "outputs": [
    {
     "name": "stderr",
     "output_type": "stream",
     "text": [
      "Using TensorFlow backend.\n"
     ]
    }
   ],
   "source": [
    "import warnings; warnings.simplefilter('ignore')\n",
    "import pickle\n",
    "import sys, os, re, csv, codecs, numpy as np, pandas as pd\n",
    "import matplotlib.pyplot as plt\n",
    "from sklearn import metrics\n",
    "from sklearn.model_selection import train_test_split\n",
    "from keras.preprocessing.text import Tokenizer\n",
    "from keras.preprocessing.sequence import pad_sequences\n",
    "from keras.layers import Dense, Input, LSTM, Embedding, Dropout, Activation\n",
    "from keras.layers import Bidirectional, GlobalMaxPool1D\n",
    "from keras.models import Model\n",
    "from keras import initializers, regularizers, constraints, optimizers, layers"
   ]
  },
  {
   "cell_type": "code",
   "execution_count": 2,
   "metadata": {
    "collapsed": true
   },
   "outputs": [],
   "source": [
    "list_classes = [1, 2, 3, 4, 5]\n",
    "\n",
    "fileObject = open('pickels/clean_reviews','rb')  \n",
    "cleaned_reviews = pickle.load(fileObject)\n",
    "\n",
    "fileObject = open('pickels/ratings','rb')  \n",
    "ratings = pickle.load(fileObject)"
   ]
  },
  {
   "cell_type": "code",
   "execution_count": 3,
   "metadata": {
    "collapsed": true
   },
   "outputs": [],
   "source": [
    "X_train, X_test, y_train, y_test = train_test_split(cleaned_reviews, ratings, test_size=0.2, random_state=42)\n",
    "y_test = [int(item) for items in y_test for item in items]"
   ]
  },
  {
   "cell_type": "code",
   "execution_count": 4,
   "metadata": {
    "collapsed": true
   },
   "outputs": [],
   "source": [
    "max_features = 20000\n",
    "tokenizer = Tokenizer(num_words=max_features)\n",
    "tokenizer.fit_on_texts(list(X_train))\n",
    "list_tokenized_train = tokenizer.texts_to_sequences(X_train)\n",
    "list_tokenized_test = tokenizer.texts_to_sequences(X_test)"
   ]
  },
  {
   "cell_type": "code",
   "execution_count": 5,
   "metadata": {
    "collapsed": true
   },
   "outputs": [],
   "source": [
    "maxlen = 100\n",
    "X_t = pad_sequences(list_tokenized_train, maxlen=maxlen)\n",
    "X_te = pad_sequences(list_tokenized_test, maxlen=maxlen)"
   ]
  },
  {
   "cell_type": "code",
   "execution_count": 6,
   "metadata": {
    "collapsed": true
   },
   "outputs": [],
   "source": [
    "y_train = np.asarray(y_train)\n",
    "y_test = np.asarray(y_test)"
   ]
  },
  {
   "cell_type": "code",
   "execution_count": 7,
   "metadata": {},
   "outputs": [],
   "source": [
    "inp = Input(shape=(maxlen, ))\n",
    "embed_size = 128\n",
    "x = Embedding(max_features, embed_size)(inp)\n",
    "x = LSTM(200, return_sequences=True,name='lstm_layer')(x)\n",
    "x = GlobalMaxPool1D()(x)\n",
    "x = Dropout(0.1)(x)\n",
    "x = Dense(120, activation=\"relu\")(x)\n",
    "x = Dropout(0.1)(x)\n",
    "x = Dense(60, activation=\"relu\")(x)\n",
    "x = Dropout(0.1)(x)\n",
    "x = Dense(6, activation=\"sigmoid\")(x)\n",
    "model = Model(inputs=inp, outputs=x)\n",
    "model.compile(loss='sparse_categorical_crossentropy', optimizer='adam', metrics=['accuracy'])"
   ]
  },
  {
   "cell_type": "code",
   "execution_count": 8,
   "metadata": {},
   "outputs": [
    {
     "name": "stdout",
     "output_type": "stream",
     "text": [
      "start fitting...\n",
      "Train on 17897 samples, validate on 1989 samples\n",
      "Epoch 1/15\n",
      "17897/17897 [==============================] - 142s 8ms/step - loss: 1.4409 - acc: 0.3526 - val_loss: 1.3584 - val_acc: 0.3766\n",
      "Epoch 2/15\n",
      "17897/17897 [==============================] - 133s 7ms/step - loss: 1.2257 - acc: 0.3963 - val_loss: 1.1978 - val_acc: 0.4213\n",
      "Epoch 3/15\n",
      "17897/17897 [==============================] - 133s 7ms/step - loss: 1.0645 - acc: 0.4924 - val_loss: 1.1431 - val_acc: 0.5048\n",
      "Epoch 4/15\n",
      "17897/17897 [==============================] - 132s 7ms/step - loss: 0.9115 - acc: 0.5974 - val_loss: 1.1838 - val_acc: 0.5093\n",
      "Epoch 5/15\n",
      "17897/17897 [==============================] - 133s 7ms/step - loss: 0.7565 - acc: 0.6776 - val_loss: 1.3143 - val_acc: 0.5093\n",
      "Epoch 6/15\n",
      "17897/17897 [==============================] - 133s 7ms/step - loss: 0.6263 - acc: 0.7468 - val_loss: 1.4261 - val_acc: 0.5013\n",
      "Epoch 7/15\n",
      "17897/17897 [==============================] - 134s 7ms/step - loss: 0.5003 - acc: 0.8071 - val_loss: 1.5792 - val_acc: 0.4972\n",
      "Epoch 8/15\n",
      "17897/17897 [==============================] - 139s 8ms/step - loss: 0.3885 - acc: 0.8551 - val_loss: 1.8887 - val_acc: 0.4892\n",
      "Epoch 9/15\n",
      "17897/17897 [==============================] - 136s 8ms/step - loss: 0.2993 - acc: 0.8918 - val_loss: 2.2163 - val_acc: 0.4801\n",
      "Epoch 10/15\n",
      "17897/17897 [==============================] - 134s 7ms/step - loss: 0.2428 - acc: 0.9161 - val_loss: 2.2913 - val_acc: 0.4656\n",
      "Epoch 11/15\n",
      "17897/17897 [==============================] - 132s 7ms/step - loss: 0.2063 - acc: 0.9308 - val_loss: 2.4317 - val_acc: 0.4852\n",
      "Epoch 12/15\n",
      "17897/17897 [==============================] - 134s 7ms/step - loss: 0.1660 - acc: 0.9448 - val_loss: 2.7845 - val_acc: 0.4706\n",
      "Epoch 13/15\n",
      "17897/17897 [==============================] - 135s 8ms/step - loss: 0.1439 - acc: 0.9502 - val_loss: 2.5555 - val_acc: 0.4796\n",
      "Epoch 14/15\n",
      "17897/17897 [==============================] - 133s 7ms/step - loss: 0.1192 - acc: 0.9602 - val_loss: 2.8259 - val_acc: 0.4736\n",
      "Epoch 15/15\n",
      "17897/17897 [==============================] - 136s 8ms/step - loss: 0.1095 - acc: 0.9636 - val_loss: 3.0555 - val_acc: 0.4791\n"
     ]
    },
    {
     "data": {
      "text/plain": [
       "<keras.callbacks.History at 0x2100edbdc50>"
      ]
     },
     "execution_count": 8,
     "metadata": {},
     "output_type": "execute_result"
    }
   ],
   "source": [
    "print(\"start fitting...\")\n",
    "model.fit(X_t,y_train, epochs=10, batch_size=32, validation_split=0.1)"
   ]
  },
  {
   "cell_type": "code",
   "execution_count": 9,
   "metadata": {
    "scrolled": true
   },
   "outputs": [
    {
     "name": "stdout",
     "output_type": "stream",
     "text": [
      "4972/4972 [==============================] - 10s 2ms/step\n",
      "\n",
      "acc: 47.4457%\n"
     ]
    }
   ],
   "source": [
    "# evaluate the model\n",
    "scores = model.evaluate(X_te, y_test)\n",
    "print(\"\\n%s: %.4f%%\" % (model.metrics_names[1], scores[1]*100))\n",
    "y_pred = model.predict(X_te, batch_size=1024)\n",
    "y_classes = y_pred.argmax(axis=-1)"
   ]
  },
  {
   "cell_type": "code",
   "execution_count": 10,
   "metadata": {},
   "outputs": [
    {
     "name": "stdout",
     "output_type": "stream",
     "text": [
      "\n",
      "Overall Acurracy:  0.4744569589702333 \n",
      "\n",
      "Precision of 1 class: 0.534351\n",
      "Recall of 1 class: 0.358974\n",
      "F1-Score of 1 class: 0.429448 \n",
      "\n",
      "Precision of 2 class: 0.361165\n",
      "Recall of 2 class: 0.339416\n",
      "F1-Score of 2 class: 0.349953 \n",
      "\n",
      "Precision of 3 class: 0.347184\n",
      "Recall of 3 class: 0.406486\n",
      "F1-Score of 3 class: 0.374502 \n",
      "\n",
      "Precision of 4 class: 0.492578\n",
      "Recall of 4 class: 0.528926\n",
      "F1-Score of 4 class: 0.510105 \n",
      "\n",
      "Precision of 5 class: 0.588554\n",
      "Recall of 5 class: 0.537809\n",
      "F1-Score of 5 class: 0.562038 \n",
      "\n"
     ]
    }
   ],
   "source": [
    "accScore = metrics.accuracy_score(y_test,y_classes)\n",
    "\n",
    "lbl = [1,2,3,4,5]\n",
    "precision = metrics.precision_score(y_test,y_classes,average=None,labels=lbl)\n",
    "recall = metrics.recall_score(y_test,y_classes,average=None,labels=lbl)\n",
    "f1Score = metrics.f1_score(y_test,y_classes,average=None,labels=lbl)\n",
    "\n",
    "print(\"\\nOverall Acurracy: \",accScore,\"\\n\")\n",
    "\n",
    "for i in range(len(lbl)):\n",
    "    print(\"Precision of %s class: %f\" %(lbl[i],precision[i]))\n",
    "    print(\"Recall of %s class: %f\" %(lbl[i],recall[i]))\n",
    "    print(\"F1-Score of %s class: %f\" %(lbl[i],f1Score[i]),\"\\n\") "
   ]
  },
  {
   "cell_type": "code",
   "execution_count": null,
   "metadata": {
    "collapsed": true
   },
   "outputs": [],
   "source": []
  }
 ],
 "metadata": {
  "kernelspec": {
   "display_name": "Python 3",
   "language": "python",
   "name": "python3"
  },
  "language_info": {
   "codemirror_mode": {
    "name": "ipython",
    "version": 3
   },
   "file_extension": ".py",
   "mimetype": "text/x-python",
   "name": "python",
   "nbconvert_exporter": "python",
   "pygments_lexer": "ipython3",
   "version": "3.5.0"
  }
 },
 "nbformat": 4,
 "nbformat_minor": 2
}
