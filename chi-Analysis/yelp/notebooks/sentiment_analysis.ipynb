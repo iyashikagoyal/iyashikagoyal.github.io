{
 "cells": [
  {
   "cell_type": "code",
   "execution_count": 1,
   "metadata": {
    "collapsed": true
   },
   "outputs": [],
   "source": [
    "import pandas as pd\n",
    "import numpy as np\n",
    "import nltk\n",
    "import re\n",
    "import time\n",
    "import csv\n",
    "import sys\n",
    "from imblearn.over_sampling import SMOTE\n",
    "from sklearn.model_selection import train_test_split\n",
    "from sklearn import feature_extraction\n",
    "from sklearn import metrics, svm, tree, ensemble, linear_model, naive_bayes\n",
    "import textblob\n",
    "import warnings\n",
    "warnings.simplefilter('ignore')"
   ]
  },
  {
   "cell_type": "code",
   "execution_count": 2,
   "metadata": {
    "collapsed": true
   },
   "outputs": [],
   "source": [
    "final = []\n",
    "with open('reviews_60601-60606.csv') as csv_file:\n",
    "    count = 0\n",
    "    for line in csv.reader(csv_file):\n",
    "        row = ','.join(line)\n",
    "        rows = row.split(',') \n",
    "        rows[3:-6] = [''.join(rows[3:-6])]\n",
    "        count += 1\n",
    "        if len(rows) != 10:\n",
    "            print(rows)\n",
    "            sys.exit(1)\n",
    "        final.append(rows)"
   ]
  },
  {
   "cell_type": "code",
   "execution_count": 3,
   "metadata": {
    "collapsed": true
   },
   "outputs": [],
   "source": [
    "df = pd.DataFrame(final[1:])\n",
    "df.columns = final[:1]\n",
    "\n",
    "yelp_reviews = df.iloc[:,3:5]\n",
    "ratings = yelp_reviews['rating'].values.tolist()\n",
    "ratings = [int(x[0]) for x in ratings]"
   ]
  },
  {
   "cell_type": "code",
   "execution_count": 4,
   "metadata": {
    "collapsed": true,
    "scrolled": true
   },
   "outputs": [],
   "source": [
    "labels = []\n",
    "\n",
    "for i in range(len(ratings)):\n",
    "\tif ratings[i] == 1 or ratings[i] == 2 or ratings[i] ==  3:\n",
    "\t\t# negative\n",
    "\t\tlabels.append(2)\n",
    "\telif ratings[i] == 4 or ratings[i] == 5:\n",
    "\t\t# positive\n",
    "\t\tlabels.append(1)\n",
    "\n",
    "yelp_reviews['label'] = np.asarray(labels)\n",
    "yelp_reviews.drop(['rating'], axis=1, inplace=True)"
   ]
  },
  {
   "cell_type": "code",
   "execution_count": 5,
   "metadata": {
    "collapsed": true
   },
   "outputs": [],
   "source": [
    "def analyze_comment(cleaned_comments, label):\n",
    "    \"\"\"Analyze the cleaned comments.\"\"\"\n",
    "    polarity = []\n",
    "    subjectivity = []\n",
    "    sentiment = []\n",
    "    for comment in cleaned_comments:\n",
    "        comment = str(comment)\n",
    "        polarity_comment = textblob.TextBlob(comment).sentiment.polarity\n",
    "        subjectivity_comment = textblob.TextBlob(comment).sentiment.subjectivity\n",
    "        polarity.append(polarity_comment)\n",
    "        subjectivity.append(subjectivity_comment)\n",
    "        if polarity_comment > 0.12:\n",
    "            sentiment.append('positive')\n",
    "        else:\n",
    "            sentiment.append('negative')\n",
    "    # analyzed_comments = pd.DataFrame.from_dict({'comment': cleaned_comments, 'label': label, 'sentiment' : sentiment, 'subjectivity': subjectivity, 'polarity': polarity})\n",
    "    # return analyzed_comments\n",
    "    return cleaned_comments, label, np.asarray(polarity), np.asarray(subjectivity), np.asarray(sentiment)\n",
    "cleaned_comments, label, polarity, subjectivity, sentiment = analyze_comment(np.asarray(yelp_reviews['reviewContent']), np.asarray(yelp_reviews['label']))"
   ]
  },
  {
   "cell_type": "code",
   "execution_count": 6,
   "metadata": {
    "collapsed": true
   },
   "outputs": [],
   "source": [
    "yelp_analyzed = pd.DataFrame.from_dict({\n",
    "                                'comment': cleaned_comments.reshape(cleaned_comments.shape[0]),\n",
    "                                'label': label.reshape(label.shape[0]),\n",
    "                                'sentiment' : sentiment.reshape(sentiment.shape[0]),\n",
    "                                'subjectivity': subjectivity.reshape(subjectivity.shape[0]),\n",
    "                                'polarity': polarity.reshape(polarity.shape[0])})"
   ]
  },
  {
   "cell_type": "code",
   "execution_count": 7,
   "metadata": {
    "collapsed": true
   },
   "outputs": [],
   "source": [
    "yelp_analyzed['rating'] = ratings"
   ]
  },
  {
   "cell_type": "code",
   "execution_count": 12,
   "metadata": {},
   "outputs": [
    {
     "name": "stdout",
     "output_type": "stream",
     "text": [
      "Accuracy:  0.7116018987850994 \n",
      "\n",
      "F1-Score of 1 class: 0.786618\n",
      "F1-Score of 2 class: 0.555245\n"
     ]
    }
   ],
   "source": [
    "accScore = metrics.accuracy_score(yelp_analyzed['label'],[1 if x=='positive' else 2 for x in yelp_analyzed['sentiment'].tolist()])\n",
    "print('Accuracy: ', accScore,'\\n')\n",
    "lbl = [1,2]\n",
    "f1Score = metrics.f1_score(yelp_analyzed['label'],[1 if x=='positive' else 2 for x in yelp_analyzed['sentiment'].tolist()],average=None,labels=lbl)\n",
    "for i in range(len(lbl)):\n",
    "    print(\"F1-Score of %s class: %f\" %(lbl[i],f1Score[i])) "
   ]
  },
  {
   "cell_type": "code",
   "execution_count": 15,
   "metadata": {},
   "outputs": [
    {
     "name": "stdout",
     "output_type": "stream",
     "text": [
      "\n",
      "Average positive rating:  3.963191548512649\n",
      "Average negative rating:  2.8319511130510695 \n",
      "\n"
     ]
    }
   ],
   "source": [
    "average_positive_rating = yelp_analyzed.loc[yelp_analyzed['sentiment'] == 'positive']['rating'].sum()/yelp_analyzed.loc[yelp_analyzed['sentiment'] == 'positive'].shape[0]\n",
    "average_negative_rating = yelp_analyzed.loc[yelp_analyzed['sentiment'] == 'negative']['rating'].sum()/yelp_analyzed.loc[yelp_analyzed['sentiment'] == 'negative'].shape[0]\n",
    "\n",
    "print('\\nAverage positive rating: ', average_positive_rating)\n",
    "print('Average negative rating: ', average_negative_rating, '\\n')"
   ]
  },
  {
   "cell_type": "code",
   "execution_count": 16,
   "metadata": {
    "collapsed": true
   },
   "outputs": [],
   "source": [
    "yelp_analyzed['restaurantID'] = df['restaurantID']"
   ]
  },
  {
   "cell_type": "code",
   "execution_count": 17,
   "metadata": {
    "collapsed": true
   },
   "outputs": [],
   "source": [
    "rest_data = pd.read_csv(\"restaurants_60601-60606.csv\", usecols=[0,1])"
   ]
  },
  {
   "cell_type": "code",
   "execution_count": 18,
   "metadata": {
    "collapsed": true
   },
   "outputs": [],
   "source": [
    "combined_yelp = pd.merge(yelp_analyzed, rest_data, left_on=\"restaurantID\", right_on=\"restaurantID\", how=\"left\", validate=\"m:1\")"
   ]
  },
  {
   "cell_type": "code",
   "execution_count": 19,
   "metadata": {
    "collapsed": true
   },
   "outputs": [],
   "source": [
    "final_result = combined_yelp[['name', 'sentiment','rating']]"
   ]
  },
  {
   "cell_type": "code",
   "execution_count": 20,
   "metadata": {
    "collapsed": true
   },
   "outputs": [],
   "source": [
    "final_result.to_csv('results/sentiment_analysis.csv', index=False)"
   ]
  },
  {
   "cell_type": "code",
   "execution_count": 21,
   "metadata": {
    "collapsed": true,
    "scrolled": true
   },
   "outputs": [],
   "source": [
    "yelp_analyzed[['comment', 'sentiment', 'polarity', 'subjectivity', 'rating']].to_csv('sentiment_analysis_output.csv', index=False)"
   ]
  },
  {
   "cell_type": "code",
   "execution_count": null,
   "metadata": {
    "collapsed": true
   },
   "outputs": [],
   "source": []
  }
 ],
 "metadata": {
  "kernelspec": {
   "display_name": "Python 3",
   "language": "python",
   "name": "python3"
  },
  "language_info": {
   "codemirror_mode": {
    "name": "ipython",
    "version": 3
   },
   "file_extension": ".py",
   "mimetype": "text/x-python",
   "name": "python",
   "nbconvert_exporter": "python",
   "pygments_lexer": "ipython3",
   "version": "3.5.0"
  }
 },
 "nbformat": 4,
 "nbformat_minor": 2
}
