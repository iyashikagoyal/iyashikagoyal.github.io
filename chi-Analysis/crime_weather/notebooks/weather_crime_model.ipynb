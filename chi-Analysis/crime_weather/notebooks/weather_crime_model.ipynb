{
 "cells": [
  {
   "cell_type": "code",
   "execution_count": 1,
   "metadata": {},
   "outputs": [
    {
     "name": "stderr",
     "output_type": "stream",
     "text": [
      "C:\\ProgramData\\Anaconda3\\lib\\site-packages\\sklearn\\cross_validation.py:41: DeprecationWarning: This module was deprecated in version 0.18 in favor of the model_selection module into which all the refactored classes and functions are moved. Also note that the interface of the new CV iterators are different from that of this module. This module will be removed in 0.20.\n",
      "  \"This module will be removed in 0.20.\", DeprecationWarning)\n"
     ]
    }
   ],
   "source": [
    "import warnings\n",
    "warnings.simplefilter('ignore')\n",
    "import sys\n",
    "from sklearn.neighbors import KNeighborsClassifier\n",
    "from sklearn.preprocessing import LabelEncoder\n",
    "import matplotlib.pyplot as plt\n",
    "import numpy as np\n",
    "from sklearn.cross_validation import train_test_split\n",
    "from sklearn import cross_validation\n",
    "from sklearn.cross_validation import cross_val_score\n",
    "from sklearn.metrics import log_loss\n",
    "import pandas as pd\n",
    "import datetime\n",
    "import copy\n",
    "import pickle\n",
    "from sklearn.linear_model import LogisticRegression\n",
    "from sklearn.ensemble import RandomForestClassifier \n",
    "from sklearn.metrics import accuracy_score\n",
    "from sklearn.tree import DecisionTreeClassifier\n",
    "import csv"
   ]
  },
  {
   "cell_type": "code",
   "execution_count": 2,
   "metadata": {},
   "outputs": [
    {
     "data": {
      "text/plain": [
       "(1472, 18)"
      ]
     },
     "execution_count": 2,
     "metadata": {},
     "output_type": "execute_result"
    }
   ],
   "source": [
    "c_data=pd.read_csv('Chicago_Master new.csv')    \n",
    "\n",
    "c_data.Date = pd.to_datetime(c_data.Date, format = '%Y/%m/%d')\n",
    "\n",
    "c_data.drop(['Max Temperature', 'Min Temperature'], inplace = True, axis = 1)\n",
    "\n",
    "year = [i.strftime('%Y') for i in c_data['Date']]\n",
    "c_data['Month']=[i.strftime('%m') for i in c_data['Date']]\n",
    "c_data['year']=year\n",
    "\n",
    "c_data['day_of_week'] = c_data['Date'].dt.dayofweek\n",
    "c_data['Date'] = [i.date() for i in c_data['Date']]\n",
    "days_dict = {0:'Mon', 1:'Tue', 2:'Wed', 3:'Thu', 4:'Fri',\n",
    "                    5:'Sat', 6:'Sun'}\n",
    "c_data = c_data.replace({'day_of_week':days_dict})\n",
    "c_data.index = pd.DatetimeIndex(c_data.Date,inplace=True,axis=1)\n",
    "c_data['SEASON'] = pd.cut(\n",
    "    (c_data.index.dayofyear + 11) % 366,\n",
    "    [0, 91, 183, 275, 366],\n",
    "    labels=['Winter', 'Spring', 'Summer', 'Fall']\n",
    ")\n",
    "c_data['Weekend Day'] = np.where(((c_data['day_of_week'] == 'Sat') | (c_data['day_of_week'] == 'Sun')),1,0)\n",
    "c_data = c_data[(c_data['SEASON']=='Summer')]"
   ]
  },
  {
   "cell_type": "code",
   "execution_count": 3,
   "metadata": {},
   "outputs": [
    {
     "data": {
      "text/plain": [
       "(224882, 16)"
      ]
     },
     "execution_count": 3,
     "metadata": {},
     "output_type": "execute_result"
    }
   ],
   "source": [
    "crime=pd.read_csv('Crimes_-_2001_to_present.csv')\n",
    "\n",
    "crime = crime[(crime['Primary Type']=='ROBBERY')]\n",
    "crime.Date = pd.to_datetime(crime.Date, format = '%m/%d/%Y %I:%M:%S %p')\n",
    "crime.drop_duplicates(subset=['ID', 'Case Number'], inplace=True)\n",
    "crime = crime.dropna()\n",
    "crime.drop(['ID','Case Number','IUCR','FBI Code','Updated On','Location',\n",
    "                 'X Coordinate','Y Coordinate','Location'], inplace = True, axis = 1)\n",
    "crime['minute']=[i.strftime('%M') for i in crime['Date']]\n",
    "crime['Hour'] = [i.strftime('%H') for i in crime['Date']]\n",
    "crime['Date'] = [i.date() for i in crime['Date']]\n",
    "crime.index = pd.DatetimeIndex(crime.Date,inplace=True,axis=1)\n",
    "Hour=crime['Hour']\n",
    "Hour = pd.to_numeric(Hour, errors='coerce')\n",
    "\n",
    "enc9111= LabelEncoder()\n",
    "crime['minute'] = enc9111.fit_transform(crime['minute'].astype(str))"
   ]
  },
  {
   "cell_type": "code",
   "execution_count": 4,
   "metadata": {},
   "outputs": [
    {
     "data": {
      "text/plain": [
       "(58521, 24)"
      ]
     },
     "execution_count": 4,
     "metadata": {},
     "output_type": "execute_result"
    }
   ],
   "source": [
    "crimef=crime.merge(c_data, on=\"Date\", how = 'inner', validate=\"m:m\")\n",
    "crimef.drop(['Hour','Arrest','Beat', 'Domestic', 'District', 'Ward'], inplace = True, axis = 1)\n",
    "crimef.drop(['Date','Location Description','year'], inplace = True, axis = 1)"
   ]
  },
  {
   "cell_type": "code",
   "execution_count": 5,
   "metadata": {},
   "outputs": [
    {
     "data": {
      "text/plain": [
       "(200649, 24)"
      ]
     },
     "execution_count": 5,
     "metadata": {},
     "output_type": "execute_result"
    }
   ],
   "source": [
    "zipcode=pd.read_csv('Community area and zip code equivalency - Community area and zip code equ.csv')\n",
    "crimeff = crimef.merge(zipcode[['CHGOCA', 'ZCTA5']], how='inner', left_on='Community Area', right_on='CHGOCA')\n",
    "\n",
    "crimeff.rename(columns={'ZCTA5': 'Zipcode'}, inplace=True)\n",
    "crimeff.drop(['CHGOCA','minute'], inplace = True, axis = 1)"
   ]
  },
  {
   "cell_type": "code",
   "execution_count": 6,
   "metadata": {},
   "outputs": [
    {
     "data": {
      "text/plain": [
       "(77, 129)"
      ]
     },
     "execution_count": 6,
     "metadata": {},
     "output_type": "execute_result"
    }
   ],
   "source": [
    "census = pd.read_csv('CCASF12010CMAP.csv')\n",
    "census.rename(columns={'GeogKey': 'Community Area'}, inplace=True)"
   ]
  },
  {
   "cell_type": "code",
   "execution_count": 7,
   "metadata": {},
   "outputs": [
    {
     "data": {
      "text/plain": [
       "(200649, 25)"
      ]
     },
     "execution_count": 7,
     "metadata": {},
     "output_type": "execute_result"
    }
   ],
   "source": [
    "crimefinal = crimeff.merge(census[['Community Area','Not Hispanic or Latino, White alone', 'Not Hispanic or Latino, Black or African American alone','Hispanic or Latino','Vacant Housing Units']],on='Community Area', how='left')\n",
    "crimefinal.rename(columns={'Not Hispanic or Latino, White alone': 'white'}, inplace=True)\n",
    "crimefinal.rename(columns={'Not Hispanic or Latino, Black or African American alone': 'BlackAf'}, inplace=True)\n",
    "crimefinal.rename(columns={'Hispanic or Latino': 'HL'}, inplace=True)\n",
    "crimefinal.rename(columns={'Vacant Housing Units': 'vacanthouse'}, inplace=True)\n",
    "def normalize(data): \n",
    "    data = (data - data.min()) / (data.max() - data.min())\n",
    "    return data\n",
    "\n",
    "crimefinal['Latitude'] = normalize(crimefinal.Latitude)\n",
    "crimefinal['Longitude'] = normalize(crimefinal.Longitude)\n",
    "crimefinal['white'] = normalize(crimefinal.white)\n",
    "crimefinal['BlackAf'] = normalize(crimefinal.BlackAf)\n",
    "crimefinal['HL'] = normalize(crimefinal.HL)\n",
    "crimefinal['vacanthouse'] = normalize(crimefinal.vacanthouse)         \n",
    "crimefinal = crimefinal[(crimefinal['SEASON']=='Summer')]\n",
    "crimefinal.drop(['white','HL','Primary Type'],inplace=True,axis=1)"
   ]
  },
  {
   "cell_type": "code",
   "execution_count": 8,
   "metadata": {},
   "outputs": [
    {
     "data": {
      "text/plain": [
       "(200649, 23)"
      ]
     },
     "execution_count": 8,
     "metadata": {},
     "output_type": "execute_result"
    }
   ],
   "source": [
    "testdata = copy.deepcopy(crimefinal)\n",
    "y = crimefinal[['Description']]\n",
    "crimefinal.pop('Description')\n",
    "crimefinal.drop(['Community Area'],inplace=True,axis=1)"
   ]
  },
  {
   "cell_type": "code",
   "execution_count": 9,
   "metadata": {},
   "outputs": [],
   "source": [
    "import copy\n",
    "\n",
    "features = copy.deepcopy(crimefinal)\n",
    "features.drop(['Block','Heating Degree Days', ' Dew Point','Year',\n",
    "   ' Average Humidity', ' Max Humidity', ' Minimum Humidity',\n",
    "   ' Precipitation', ' Sea Level Pressure', ' Average Wind Speed',\n",
    "   ' Maximum Wind Speed', ' Visibility', ' Events', 'SEASON',\n",
    "   'Zipcode', 'day_of_week', 'Weekend Day'],inplace=True,axis=1)"
   ]
  },
  {
   "cell_type": "code",
   "execution_count": 11,
   "metadata": {},
   "outputs": [
    {
     "name": "stdout",
     "output_type": "stream",
     "text": [
      "Accuracy is  94.27868961392784\n"
     ]
    }
   ],
   "source": [
    "X_train, X_test, y_train, y_test = train_test_split(features, y, test_size = 0.15, random_state = 0)\n",
    "\n",
    "ylabel=LabelEncoder()\n",
    "ylabel.fit(y_train)\n",
    "y_train= ylabel.transform(y_train)\n",
    "y_test= ylabel.fit_transform(y_test)\n",
    "\n",
    "X_train[\"Mean Temperature\"].fillna(X_train[\"Mean Temperature\"].mean(), inplace=True)\n",
    "X_test[\"Mean Temperature\"].fillna(X_test[\"Mean Temperature\"].mean(), inplace=True)\n",
    "\n",
    "rand_forest = RandomForestClassifier()\n",
    "rand_forest.fit(X_train, y_train)\n",
    "y_predrf = rand_forest.predict(X_test)\n",
    "\n",
    "print (\"Accuracy is \", accuracy_score(y_test,y_predrf)*100)\n",
    "\n",
    "fileObject = open('models/cw_r_forest','wb')\n",
    "pickle.dump(rand_forest, fileObject) \n",
    "fileObject.close()"
   ]
  },
  {
   "cell_type": "code",
   "execution_count": 12,
   "metadata": {
    "collapsed": true
   },
   "outputs": [],
   "source": [
    "label_mapping = dict(zip(ylabel.classes_, ylabel.transform(ylabel.classes_)))\n",
    "\n",
    "fileObject = open('models/cw_label_mapping','wb')\n",
    "pickle.dump(label_mapping, fileObject) \n",
    "fileObject.close()"
   ]
  },
  {
   "cell_type": "code",
   "execution_count": 13,
   "metadata": {
    "collapsed": true
   },
   "outputs": [],
   "source": [
    "fileObject = open('models/test','wb')\n",
    "pickle.dump(X_test, fileObject) \n",
    "fileObject.close()"
   ]
  },
  {
   "cell_type": "code",
   "execution_count": null,
   "metadata": {
    "collapsed": true
   },
   "outputs": [],
   "source": []
  }
 ],
 "metadata": {
  "kernelspec": {
   "display_name": "Python 3",
   "language": "python",
   "name": "python3"
  },
  "language_info": {
   "codemirror_mode": {
    "name": "ipython",
    "version": 3
   },
   "file_extension": ".py",
   "mimetype": "text/x-python",
   "name": "python",
   "nbconvert_exporter": "python",
   "pygments_lexer": "ipython3",
   "version": "3.5.0"
  }
 },
 "nbformat": 4,
 "nbformat_minor": 2
}
