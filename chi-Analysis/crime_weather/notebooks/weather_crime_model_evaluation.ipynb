{
 "cells": [
  {
   "cell_type": "code",
   "execution_count": 194,
   "metadata": {
    "collapsed": true
   },
   "outputs": [],
   "source": [
    "import pandas as pd\n",
    "import pandas as pd\n",
    "import numpy as np\n",
    "import requests\n",
    "import pickle\n",
    "import csv"
   ]
  },
  {
   "cell_type": "code",
   "execution_count": 69,
   "metadata": {
    "collapsed": true
   },
   "outputs": [],
   "source": [
    "zcode = 60601"
   ]
  },
  {
   "cell_type": "code",
   "execution_count": 70,
   "metadata": {
    "collapsed": true
   },
   "outputs": [],
   "source": [
    "crime = pd.read_csv('Crimes_-_2001_to_present.csv')\n",
    "zipcode = pd.read_csv('Community area and zip code equivalency - Community area and zip code equ.csv')"
   ]
  },
  {
   "cell_type": "code",
   "execution_count": 71,
   "metadata": {
    "scrolled": true
   },
   "outputs": [],
   "source": [
    "crimeff = crime.merge(zipcode[['CHGOCA', 'ZCTA5']], how='inner', left_on='Community Area', right_on='CHGOCA')\n",
    "\n",
    "crimeff = crimeff[(crimeff['ZCTA5']==zcode)]"
   ]
  },
  {
   "cell_type": "code",
   "execution_count": 176,
   "metadata": {
    "scrolled": true
   },
   "outputs": [],
   "source": [
    "lat_long = crimeff[['Latitude','Longitude']].dropna().drop_duplicates()"
   ]
  },
  {
   "cell_type": "code",
   "execution_count": 73,
   "metadata": {
    "scrolled": true
   },
   "outputs": [],
   "source": [
    "blocks = pd.DataFrame(columns = ['Block', 'FIPS', 'Tract'])   \n",
    "blocks['Block'] = 0\n",
    "blocks['FIPS'] = 0\n",
    "blocks['Tract'] = 0\n",
    "\n",
    "for index, crime in lat_long.iterrows():\n",
    "    parameters = {'latitude': crime[0], 'longitude': crime[1], 'format': 'json'}\n",
    "    response = requests.get('https://www.broadbandmap.gov/broadbandmap/census/block', params=parameters)\n",
    "    data = response.json()\n",
    "    data = data['Results']['block'] \n",
    "    fips = data[0]['FIPS']\n",
    "    blocks.loc[index,'FIPS'] = fips\n",
    "    tract = fips[5:11]\n",
    "    blocks.loc[index,'Tract'] = tract\n",
    "    block = fips[-4:]\n",
    "    blocks.loc[index,'Block'] = block"
   ]
  },
  {
   "cell_type": "code",
   "execution_count": 177,
   "metadata": {},
   "outputs": [],
   "source": [
    "weather_dict = {'Month': [6,7,8,9], 'Mean Temperature': [73.021581, 75.003995, 73.409822, 68.271818]}\n",
    "weather = pd.DataFrame(data=weather_dict)"
   ]
  },
  {
   "cell_type": "code",
   "execution_count": 178,
   "metadata": {},
   "outputs": [],
   "source": [
    "lat_long['Block'] = blocks['Block']"
   ]
  },
  {
   "cell_type": "code",
   "execution_count": 179,
   "metadata": {},
   "outputs": [],
   "source": [
    "lat_long['key'] = 1\n",
    "weather['key'] = 1\n",
    "\n",
    "lat_long = lat_long.merge(weather, on='key')\n",
    "del lat_long['key']"
   ]
  },
  {
   "cell_type": "code",
   "execution_count": 180,
   "metadata": {},
   "outputs": [],
   "source": [
    "census = pd.read_csv('CCASF12010CMAP.csv')\n",
    "census.rename(columns={'GeogKey': 'Community Area'}, inplace=True)\n",
    "census.rename(columns={'Not Hispanic or Latino, Black or African American alone': 'BlackAf'}, inplace=True)\n",
    "census.rename(columns={'Vacant Housing Units': 'vacanthouse'}, inplace=True)\n",
    "census = census[['Community Area','BlackAf','vacanthouse']]"
   ]
  },
  {
   "cell_type": "code",
   "execution_count": 181,
   "metadata": {},
   "outputs": [],
   "source": [
    "c_area = pd.read_csv('Community area and zip code equivalency - Community area and zip code equ.csv')\n",
    "\n",
    "c_area = c_area[(c_area['ZCTA5'] == zcode)]"
   ]
  },
  {
   "cell_type": "code",
   "execution_count": 182,
   "metadata": {},
   "outputs": [],
   "source": [
    "vacant_black = census.merge(c_area, left_on=\"Community Area\", right_on=\"CHGOCA\")[['BlackAf', 'vacanthouse']]"
   ]
  },
  {
   "cell_type": "code",
   "execution_count": 183,
   "metadata": {
    "scrolled": true
   },
   "outputs": [],
   "source": [
    "lat_long['key'] = 1\n",
    "vacant_black['key'] = 1\n",
    "\n",
    "lat_long = lat_long.merge(vacant_black, on='key')\n",
    "del lat_long['key']"
   ]
  },
  {
   "cell_type": "code",
   "execution_count": 184,
   "metadata": {
    "scrolled": true
   },
   "outputs": [],
   "source": [
    "census_block = lat_long.pop('Block')"
   ]
  },
  {
   "cell_type": "code",
   "execution_count": 185,
   "metadata": {
    "scrolled": true
   },
   "outputs": [],
   "source": [
    "fileObject = open('models/cw_r_forest','rb') \n",
    "clf = pickle.load(fileObject)\n",
    "fileObject.close()\n",
    "preds = clf.predict_proba(lat_long)"
   ]
  },
  {
   "cell_type": "code",
   "execution_count": 187,
   "metadata": {
    "collapsed": true
   },
   "outputs": [],
   "source": [
    "fileObject = open('models/cw_label_mapping','rb')  \n",
    "label_mapping = pickle.load(fileObject)\n",
    "fileObject.close()"
   ]
  },
  {
   "cell_type": "code",
   "execution_count": 191,
   "metadata": {},
   "outputs": [],
   "source": [
    "final = []\n",
    "i = 0\n",
    "for each in census_block:\n",
    "    for j in range(len(preds[i])):\n",
    "        adder = []\n",
    "        adder.append(each)\n",
    "        adder.append(lat_long['Month'][i])\n",
    "        adder.append(lat_long['Mean Temperature'][i])\n",
    "        adder.append(list(label_mapping.keys())[list(label_mapping.values()).index(j)])\n",
    "        adder.append(preds[i][j])\n",
    "        final.append(adder)\n",
    "    i += 1"
   ]
  },
  {
   "cell_type": "code",
   "execution_count": 195,
   "metadata": {},
   "outputs": [],
   "source": [
    "with open(\"crime_weather.csv\", \"w\", newline = '') as f:\n",
    "    writer = csv.writer(f)\n",
    "    writer.writerows(final)"
   ]
  },
  {
   "cell_type": "code",
   "execution_count": null,
   "metadata": {
    "collapsed": true
   },
   "outputs": [],
   "source": []
  }
 ],
 "metadata": {
  "kernelspec": {
   "display_name": "Python 3",
   "language": "python",
   "name": "python3"
  },
  "language_info": {
   "codemirror_mode": {
    "name": "ipython",
    "version": 3
   },
   "file_extension": ".py",
   "mimetype": "text/x-python",
   "name": "python",
   "nbconvert_exporter": "python",
   "pygments_lexer": "ipython3",
   "version": "3.5.0"
  }
 },
 "nbformat": 4,
 "nbformat_minor": 2
}
